{
 "cells": [
  {
   "cell_type": "code",
   "execution_count": 68,
   "metadata": {},
   "outputs": [],
   "source": [
    "import yfinance as yf\n",
    "import numpy as np\n",
    "import pandas as pd\n",
    "from datetime import timedelta, datetime"
   ]
  },
  {
   "cell_type": "code",
   "execution_count": 69,
   "metadata": {},
   "outputs": [
    {
     "name": "stderr",
     "output_type": "stream",
     "text": [
      "[*********************100%***********************]  1 of 1 completed\n"
     ]
    }
   ],
   "source": [
    "ticker = \"AVGO\"\n",
    "ends = {\n",
    "    \"AVGO\" : \"2024-09-08\",\n",
    "    \"CRWD\" : \"2024-11-29\",\n",
    "    \"AVAV\" : \"2024-12-07\",\n",
    "    \"MDB\" : \"2024-12-13\",\n",
    "    \"DOCU\" : \"2024-12-08\",\n",
    "}\n",
    "\n",
    "end_date: datetime = datetime.strptime(ends[ticker], \"%Y-%m-%d\")\n",
    "start_date: datetime = end_date - timedelta(days=60)\n",
    "start = start_date.strftime(\"%Y-%m-%d\")\n",
    "end = end_date.strftime(\"%Y-%m-%d\")\n",
    "\n",
    "df = yf.download(ticker, start=start, end=end)"
   ]
  },
  {
   "cell_type": "code",
   "execution_count": 70,
   "metadata": {},
   "outputs": [],
   "source": [
    "def get_features(df):\n",
    "    df[\"LGR\"] = np.log(df[\"Close\"] / df[\"Close\"].shift(1))\n",
    "    df[\"Volume\"] = np.log(df[\"Volume\"])\n",
    "    df[\"Volatility\"] = df[\"Close\"].std()\n",
    "    df = df.dropna()\n",
    "    return df[[\"LGR\", \"Volume\", \"Volatility\"]]\n",
    "\n",
    "df = get_features(df)\n",
    "\n",
    "path = f\"../../CSVs/{ticker}_features.csv\"\n",
    "df.to_csv(path)"
   ]
  }
 ],
 "metadata": {
  "kernelspec": {
   "display_name": "master",
   "language": "python",
   "name": "python3"
  },
  "language_info": {
   "codemirror_mode": {
    "name": "ipython",
    "version": 3
   },
   "file_extension": ".py",
   "mimetype": "text/x-python",
   "name": "python",
   "nbconvert_exporter": "python",
   "pygments_lexer": "ipython3",
   "version": "3.10.14"
  }
 },
 "nbformat": 4,
 "nbformat_minor": 2
}
